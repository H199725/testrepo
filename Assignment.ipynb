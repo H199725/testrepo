{
 "cells": [
  {
   "cell_type": "markdown",
   "id": "7b97509d-ee3d-4952-91d8-334dc7516796",
   "metadata": {},
   "source": [
    "My Jupyter Notebook on IBM Watson Studio"
   ]
  },
  {
   "cell_type": "markdown",
   "id": "0cd9a3b5-2b3d-4582-a64b-a648abb0b71a",
   "metadata": {},
   "source": [
    "**HIMAVANTH PENTAKOTA unemployed**"
   ]
  },
  {
   "cell_type": "markdown",
   "id": "27de22bb-c513-412a-8100-ce23864a5dc5",
   "metadata": {},
   "source": [
    "I am interested in data science because, it is future. Every industry has data so everyone needs techies to handle data."
   ]
  },
  {
   "cell_type": "markdown",
   "id": "9b6b04e2-c80b-4032-8bd3-1d8958b30872",
   "metadata": {
    "tags": []
   },
   "source": [
    "## Adding the numbers"
   ]
  },
  {
   "cell_type": "code",
   "execution_count": 1,
   "id": "9e2099e8-9c85-41d2-b334-b9b3ba9c30dc",
   "metadata": {},
   "outputs": [
    {
     "data": {
      "text/plain": [
       "100"
      ]
     },
     "execution_count": 1,
     "metadata": {},
     "output_type": "execute_result"
    }
   ],
   "source": [
    "50+50"
   ]
  },
  {
   "cell_type": "markdown",
   "id": "e55390e7-8bcc-47d0-943c-206d9f4cbec5",
   "metadata": {},
   "source": [
    "****\n",
    "- Added bullet here\n",
    "\n",
    "1 Added number here\n",
    "\n",
    "Link - https://cf-courses-data.s3.us.cloud-object-storage.appdomain.cloud/IBMDeveloperSkillsNetwork-DS0105EN-SkillsNetwork/labs/FinalModule_Coursera/Final_Instruction_toolforDS.md.html?origin=www.coursera.org\n",
    "\n",
    "Python is an Object oriented language. ~~strike this additional line~~"
   ]
  }
 ],
 "metadata": {
  "kernelspec": {
   "display_name": "Python",
   "language": "python",
   "name": "conda-env-python-py"
  },
  "language_info": {
   "codemirror_mode": {
    "name": "ipython",
    "version": 3
   },
   "file_extension": ".py",
   "mimetype": "text/x-python",
   "name": "python",
   "nbconvert_exporter": "python",
   "pygments_lexer": "ipython3",
   "version": "3.7.12"
  }
 },
 "nbformat": 4,
 "nbformat_minor": 5
}
